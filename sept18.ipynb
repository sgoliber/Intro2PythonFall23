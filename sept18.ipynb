{
 "cells": [
  {
   "cell_type": "code",
   "execution_count": 14,
   "metadata": {},
   "outputs": [
    {
     "name": "stdout",
     "output_type": "stream",
     "text": [
      "ice cream\n",
      "noodles\n",
      "green beans\n"
     ]
    }
   ],
   "source": [
    "#Loop and print each item in a list of your favorite foods\n",
    "foods = [\"ice cream\",\"noodles\", \"green beans\"]\n",
    "for food in foods:\n",
    "    print(food)\n"
   ]
  },
  {
   "cell_type": "code",
   "execution_count": 25,
   "metadata": {},
   "outputs": [
    {
     "name": "stdout",
     "output_type": "stream",
     "text": [
      "NOTHING!\n"
     ]
    }
   ],
   "source": [
    "#With n=5, write a if/elif/else statement that will print out “FIVE”\n",
    "#if n equals 5, “ONE HUNDRED” if n equals 100, and “NOTHING!” for all \n",
    "#other numbers.\n",
    "n = 1001\n",
    "\n",
    "if n == 5:\n",
    "    print('FIVE')\n",
    "elif n == 100:\n",
    "    print('ONE HUNDRED')\n",
    "else: \n",
    "    print('NOTHING!')\n"
   ]
  },
  {
   "cell_type": "code",
   "execution_count": 27,
   "metadata": {},
   "outputs": [
    {
     "name": "stdout",
     "output_type": "stream",
     "text": [
      "5050\n"
     ]
    }
   ],
   "source": [
    "#Write a while loop that adds all the numbers up to 100 (inclusive)\n",
    "counter=0\n",
    "total=0\n",
    "#Construct your while loop here.\n",
    "while counter <101:\n",
    "    total = total + counter\n",
    "    counter = counter + 1\n",
    "print(total)\n"
   ]
  },
  {
   "cell_type": "code",
   "execution_count": null,
   "metadata": {},
   "outputs": [],
   "source": []
  }
 ],
 "metadata": {
  "kernelspec": {
   "display_name": "Python 3 (ipykernel)",
   "language": "python",
   "name": "python3"
  },
  "language_info": {
   "codemirror_mode": {
    "name": "ipython",
    "version": 3
   },
   "file_extension": ".py",
   "mimetype": "text/x-python",
   "name": "python",
   "nbconvert_exporter": "python",
   "pygments_lexer": "ipython3",
   "version": "3.8.10"
  }
 },
 "nbformat": 4,
 "nbformat_minor": 4
}
